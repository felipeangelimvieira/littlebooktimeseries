{
  "cells": [
    {
      "cell_type": "markdown",
      "metadata": {},
      "source": [
        "# Modelos de Machine Learning\n"
      ],
      "id": "5ec0a241"
    },
    {
      "cell_type": "code",
      "metadata": {},
      "source": [
        "from tsbook.datasets.retail import SyntheticRetail\n",
        "from sktime.utils.plotting import plot_series\n",
        "from sktime.forecasting.naive import NaiveForecaster\n",
        "\n",
        "dataset = SyntheticRetail(\"univariate\")\n",
        "y_train, X_train, y_test, X_test = dataset.load(\n",
        "    \"y_train\", \"X_train\", \"y_test\", \"X_test\"\n",
        ")\n",
        "\n",
        "X_train"
      ],
      "id": "ef88f4d2",
      "execution_count": null,
      "outputs": []
    },
    {
      "cell_type": "code",
      "metadata": {},
      "source": [
        "from sktime.forecasting.compose import RecursiveReductionForecaster, DirectReductionForecaster\n",
        "\n",
        "from sklearn.ensemble import RandomForestRegressor\n",
        "\n",
        "regressor = RandomForestRegressor(n_estimators=100, random_state=42)\n",
        "\n",
        "model = RecursiveReductionForecaster(\n",
        "    regressor,\n",
        "    window_length=30,\n",
        ")\n",
        "\n",
        "model.fit(y_train, X=X_train)\n",
        "y_pred = model.predict(fh=y_test.index, X=X_test)\n",
        "plot_series(y_train, y_test, y_pred, labels=[\"Treino\", \"Teste\", \"Previsão com ML\"])"
      ],
      "id": "8faa057c",
      "execution_count": null,
      "outputs": []
    },
    {
      "cell_type": "code",
      "metadata": {},
      "source": [
        "from sktime.transformations.series.difference import Differencer\n",
        "\n",
        "model = Differencer() * RecursiveReductionForecaster(\n",
        "    regressor,\n",
        "    window_length=30,\n",
        ")\n",
        "\n",
        "model.fit(y_train, X=X_train)\n",
        "y_pred = model.predict(fh=y_test.index, X=X_test)\n",
        "plot_series(\n",
        "    y_train, y_test, y_pred, labels=[\"Treino\", \"Teste\", \"Previsão com ML + Diferença\"]\n",
        ")"
      ],
      "id": "b563fbf8",
      "execution_count": null,
      "outputs": []
    },
    {
      "cell_type": "code",
      "metadata": {},
      "source": [
        "from sktime.transformations.series.fourier import FourierFeatures\n",
        "\n",
        "model = (\n",
        "    FourierFeatures(sp_list=[365.25, 7], fourier_terms_list=[1, 1], freq=\"D\")\n",
        "    ** (Differencer()\n",
        "    * RecursiveReductionForecaster(\n",
        "        regressor,\n",
        "        window_length=30,\n",
        "    ))\n",
        ")\n",
        "model.fit(y_train, X=X_train)"
      ],
      "id": "46cf73f4",
      "execution_count": null,
      "outputs": []
    },
    {
      "cell_type": "code",
      "metadata": {},
      "source": [
        "y_pred = model.predict(fh=y_test.index, X=X_test)\n",
        "plot_series(\n",
        "    y_train, y_test, y_pred, labels=[\"Treino\", \"Teste\", \"Previsão com ML + Diferença\"]\n",
        ")"
      ],
      "id": "4774a0c8",
      "execution_count": null,
      "outputs": []
    },
    {
      "cell_type": "code",
      "metadata": {},
      "source": [
        "from tsbook.forecasting.reduction import RecursiveReductionForecaster\n",
        "from sklearn.ensemble import RandomForestRegressor\n",
        "\n",
        "regressor = RandomForestRegressor(n_estimators=100, random_state=42)\n",
        "model = RecursiveReductionForecaster(\n",
        "    regressor,\n",
        "    window_length=30,\n",
        ")\n",
        "\n",
        "model.fit(y_train, X=X_train)\n",
        "y_pred = model.predict(fh=y_test.index, X=X_test)"
      ],
      "id": "7779d5db",
      "execution_count": null,
      "outputs": []
    }
  ],
  "metadata": {
    "kernelspec": {
      "name": "python3",
      "language": "python",
      "display_name": "Python 3 (ipykernel)",
      "path": "/Users/felipeangelim/Workspace/littlebooktimeseries/book/.venv/share/jupyter/kernels/python3"
    }
  },
  "nbformat": 4,
  "nbformat_minor": 5
}